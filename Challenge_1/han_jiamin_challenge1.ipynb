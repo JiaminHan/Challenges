{
 "cells": [
  {
   "cell_type": "code",
   "execution_count": 1,
   "metadata": {},
   "outputs": [],
   "source": [
    "import pandas as pd\n",
    "import numpy as np\n",
    "import matplotlib.pyplot as plt\n",
    "\n",
    "from IPython.display import Image\n",
    "%matplotlib inline\n",
    "import sys"
   ]
  },
  {
   "cell_type": "code",
   "execution_count": 2,
   "metadata": {},
   "outputs": [],
   "source": [
    "pd.set_option('display.max_columns', None)\n",
    "pd.set_option('display.max_rows', 25)\n",
    "pd.set_option('display.precision', 3)"
   ]
  },
  {
   "cell_type": "code",
   "execution_count": 4,
   "metadata": {},
   "outputs": [],
   "source": [
    "#challenge 1\n",
    "df1 = pd.read_csv('~/ds/metis/Challenges/Challenge_1/data/turnstile_180616.txt')\n",
    "df2 = pd.read_csv('~/ds/metis/Challenges/Challenge_1/data/turnstile_180623.txt')\n",
    "df3 = pd.read_csv('~/ds/metis/Challenges/Challenge_1/data/turnstile_180630.txt')\n"
   ]
  },
  {
   "cell_type": "code",
   "execution_count": null,
   "metadata": {},
   "outputs": [],
   "source": [
    "df1['wk'] = 0\n",
    "df2['wk'] = 1\n",
    "df3['wk'] = 2\n",
    "df =pd.concat([df1,df2,df3],ignore_index=True)\n",
    "\n",
    "df.rename(columns={\"C/A\":\"CA\"}, inplace=True)\n",
    "df.columns=df.columns.str.strip()\n",
    "\n",
    "df.head()"
   ]
  },
  {
   "cell_type": "code",
   "execution_count": null,
   "metadata": {},
   "outputs": [],
   "source": [
    "#Challenge 2\n",
    "df['DATETIME']=df['DATE'].map(str)+' '+df['TIME']\n",
    "df['DATETIME']=pd.to_datetime(df['DATETIME'])\n",
    "df.head()"
   ]
  },
  {
   "cell_type": "code",
   "execution_count": null,
   "metadata": {},
   "outputs": [],
   "source": [
    "#Challenge 3 - group and diff\n",
    "df['turnstile'] = df['CA'] + \" \" + df['SCP']\n",
    "df.head()"
   ]
  },
  {
   "cell_type": "code",
   "execution_count": null,
   "metadata": {},
   "outputs": [],
   "source": [
    "df['ENTRYDIFFS']=(df.sort_values(by=['STATION','UNIT','CA','SCP']).groupby(['STATION','UNIT','CA','DATE'])['ENTRIES'].diff())"
   ]
  },
  {
   "cell_type": "code",
   "execution_count": null,
   "metadata": {},
   "outputs": [],
   "source": [
    "#clear out values don't make sense\n",
    "df.loc[df['ENTRYDIFFS'] < 0, 'ENTRYDIFFS'] = 0\n",
    "df.loc[df['ENTRYDIFFS'] > (20*60*4), 'ENTRYDIFFS'] = 0"
   ]
  },
  {
   "cell_type": "code",
   "execution_count": null,
   "metadata": {
    "scrolled": false
   },
   "outputs": [],
   "source": [
    "df_daily=(df.sort_values(by=['turnstile','DATE'])\n",
    "                  .groupby(['turnstile','DATE'])['ENTRYDIFFS'].sum()).reset_index()\n",
    "df_daily.sample(10)"
   ]
  },
  {
   "cell_type": "code",
   "execution_count": null,
   "metadata": {
    "scrolled": true
   },
   "outputs": [],
   "source": [
    "df_daily = df_daily.set_index(['turnstile'])\n",
    "df_daily.head()"
   ]
  },
  {
   "cell_type": "code",
   "execution_count": null,
   "metadata": {},
   "outputs": [],
   "source": [
    "# challenge 4\n",
    "df_toplot = df_daily.query(\"turnstile == 'A002 02-00-00'\")\n",
    "x = df_toplot.DATE; y = df_toplot.ENTRYDIFFS\n",
    "plt.plot(x, y)\n",
    "plt.xticks(range(0,len(x),2), df_toplot.DATE[::2], rotation=90)\n"
   ]
  },
  {
   "cell_type": "code",
   "execution_count": null,
   "metadata": {},
   "outputs": [],
   "source": [
    "# challenge 5\n",
    "\n",
    "df4=(df.sort_values(by=['STATION','UNIT','CA'])\n",
    "                  .groupby(['STATION','UNIT','CA','DATE'], as_index=False)['ENTRYDIFFS'].sum())\n",
    "\n",
    "df4.sample(10)"
   ]
  },
  {
   "cell_type": "code",
   "execution_count": null,
   "metadata": {},
   "outputs": [],
   "source": [
    "# challenge 6\n",
    "\n",
    "df5=(df.sort_values(by=['STATION','DATE'])\n",
    "                  .groupby(['STATION','DATE'], as_index=False)['ENTRYDIFFS'].sum())\n",
    "\n",
    "df5"
   ]
  },
  {
   "cell_type": "code",
   "execution_count": null,
   "metadata": {},
   "outputs": [],
   "source": [
    "# challenge 7\n",
    "\n",
    "df6 = df5.loc[df5['STATION']=='1 AV']\n",
    "plt.plot(df6['DATE'], df6['ENTRYDIFFS'])\n",
    "plt.xticks(rotation=90)"
   ]
  },
  {
   "cell_type": "code",
   "execution_count": null,
   "metadata": {},
   "outputs": [],
   "source": [
    "# challenge 8\n",
    "\n",
    "df7=(df.sort_values(by=['STATION','DATE'])\n",
    "                  .groupby(['STATION','DATE','wk'], as_index=False)['ENTRYDIFFS'].sum())\n",
    "\n",
    "\n",
    "\n",
    "df7=df7.loc[df7['STATION']=='1 AV']\n",
    "df7['wkday']= list(range(1,8))*2"
   ]
  },
  {
   "cell_type": "code",
   "execution_count": null,
   "metadata": {},
   "outputs": [],
   "source": [
    "week_0 = df7.loc[df7['wk']==0][['wkday','ENTRYDIFFS']]\n",
    "week_1 = df7.loc[df7['wk']==1][['wkday','ENTRYDIFFS']]\n",
    "\n",
    "plt.plot(week_0['wkday'], week_0['ENTRYDIFFS'])\n",
    "plt.plot(week_1['wkday'], week_1['ENTRYDIFFS'])\n",
    "plt.legend(['week0623','week0630'],shadow = False)"
   ]
  },
  {
   "cell_type": "code",
   "execution_count": null,
   "metadata": {},
   "outputs": [],
   "source": [
    "# challenge 9\n",
    "\n",
    "df8=(df.sort_values(by=['STATION','DATE'], ascending=False)\n",
    "                  .groupby(['STATION'], as_index=False)['ENTRYDIFFS'].sum())\n",
    "\n",
    "\n",
    "df8=df8.sort_values(by=['ENTRYDIFFS'], ascending=False)\n",
    "df8.head()\n"
   ]
  },
  {
   "cell_type": "code",
   "execution_count": null,
   "metadata": {
    "scrolled": true
   },
   "outputs": [],
   "source": [
    "# challenge 10\n",
    "total_ridership_counts = df8['ENTRYDIFFS']\n",
    "plt.hist(total_ridership_counts)"
   ]
  },
  {
   "cell_type": "code",
   "execution_count": null,
   "metadata": {},
   "outputs": [],
   "source": [
    "indices = range(len(total_ridership_counts))\n",
    "plt.bar(indices, total_ridership_counts)\n"
   ]
  },
  {
   "cell_type": "code",
   "execution_count": null,
   "metadata": {},
   "outputs": [],
   "source": []
  }
 ],
 "metadata": {
  "kernelspec": {
   "display_name": "Python 3",
   "language": "python",
   "name": "python3"
  },
  "language_info": {
   "codemirror_mode": {
    "name": "ipython",
    "version": 3
   },
   "file_extension": ".py",
   "mimetype": "text/x-python",
   "name": "python",
   "nbconvert_exporter": "python",
   "pygments_lexer": "ipython3",
   "version": "3.6.4"
  }
 },
 "nbformat": 4,
 "nbformat_minor": 2
}
